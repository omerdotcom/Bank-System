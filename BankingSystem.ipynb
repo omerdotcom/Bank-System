{
 "cells": [
  {
   "cell_type": "code",
   "execution_count": 2,
   "id": "94ae1616-69f3-4257-b2a4-fa77e296c5ce",
   "metadata": {},
   "outputs": [],
   "source": [
    "from abc import ABC, abstractmethod"
   ]
  },
  {
   "cell_type": "code",
   "execution_count": 3,
   "id": "134e8ff4-2ee6-41fd-bb45-d5371911d4e6",
   "metadata": {},
   "outputs": [],
   "source": [
    "class BankAccount(ABC):\n",
    "    @abstractmethod\n",
    "    def deposit(self,amount):\n",
    "        pass\n",
    "    @abstractmethod\n",
    "    def withdraw(self,amount):\n",
    "        pass\n",
    "    @abstractmethod\n",
    "    def get_balance(self):\n",
    "        pass"
   ]
  },
  {
   "cell_type": "code",
   "execution_count": 51,
   "id": "8055f001-e140-4ec8-b9a2-49f5459eadca",
   "metadata": {},
   "outputs": [],
   "source": [
    "class CheckingAccount(BankAccount):\n",
    "    def __init__(self,account_number,initial_balance):\n",
    "        self.account_number = account_number\n",
    "        self.balance = initial_balance\n",
    "    def deposit(self,amount):\n",
    "        self.balance += amount\n",
    "        print(f'Deposited {amount} into {self.account_number}')\n",
    "    def withdraw(self,amount):\n",
    "        if amount>self.balance:\n",
    "            print('Insufficient funds')\n",
    "        else:\n",
    "            self.balance -= amount\n",
    "            print(f'Withdrawed {amount} from {self.account_number}')\n",
    "    def get_balance(self):\n",
    "            return self.balance"
   ]
  },
  {
   "cell_type": "code",
   "execution_count": 50,
   "id": "7bd7e4c5-0e31-4bca-a714-df64183486cc",
   "metadata": {},
   "outputs": [],
   "source": [
    "class SavingsAccount(BankAccount):\n",
    "    def __init__(self,account_number,initial_balance,interest_rate):\n",
    "        self.account_number = account_number\n",
    "        self.balance = initial_balance\n",
    "        self.interest = interest_rate\n",
    "    def deposit(self,amount):\n",
    "        self.balance += amount\n",
    "        print(f'Deposited {amount} into {self.account_number}')\n",
    "    def withdraw(self,amount):\n",
    "        if amount>self.balance:\n",
    "            print('Insufficient funds')\n",
    "        else:\n",
    "            self.balance -= amount\n",
    "            print(f'Withdrawed {amount} from {self.account_number}') \n",
    "    def get_balance(self):\n",
    "        return self.balance\n",
    "    def add_interest(self):\n",
    "        interest = self.balance*self.interest\n",
    "        self.balance += interest\n",
    "        print(f'added {interest} to account {self.account_number}')"
   ]
  },
  {
   "cell_type": "code",
   "execution_count": 52,
   "id": "a182cdf9-aa84-466f-9282-9a3041df4f01",
   "metadata": {},
   "outputs": [],
   "source": [
    "class Bank:\n",
    "    def __init__(self):\n",
    "        self.accounts = []\n",
    "    def add_account(self,account:BankAccount):\n",
    "        self.accounts.append(account)\n",
    "    def deposit(self,account_number,amount):\n",
    "        for account in self.accounts:\n",
    "            if account.account_number == account_number:\n",
    "                account.deposit(amount)\n",
    "                break\n",
    "    def withdraw(self,account_number,amount):\n",
    "        for account in self.accounts:\n",
    "            if account.account_number == account_number:\n",
    "                account.withdraw(amount)\n",
    "                break\n",
    "    def get_balance(self,account_number):\n",
    "        for account in self.accounts:\n",
    "            if account.account_number == account_number:\n",
    "                return account.balance"
   ]
  },
  {
   "cell_type": "code",
   "execution_count": 53,
   "id": "8da29b99-71cd-446c-9ee0-012fa77a3673",
   "metadata": {},
   "outputs": [],
   "source": [
    "bank = Bank()\n",
    "cAccount = CheckingAccount('12345',1000)\n",
    "sAccount = SavingsAccount('67890',500,0.5)\n",
    "bank.add_account(cAccount)\n",
    "bank.add_account(sAccount)"
   ]
  },
  {
   "cell_type": "code",
   "execution_count": 54,
   "id": "afdfa0f8-ad4d-4546-8510-49bc6be25496",
   "metadata": {},
   "outputs": [
    {
     "name": "stdout",
     "output_type": "stream",
     "text": [
      "deposting intto checking account.....\n",
      "Deposited 500 into 12345\n"
     ]
    }
   ],
   "source": [
    "print(\"deposting intto checking account.....\")\n",
    "bank.deposit('12345',500)"
   ]
  },
  {
   "cell_type": "code",
   "execution_count": 55,
   "id": "da0402e7-f1d8-435e-a973-c99bc0aff88c",
   "metadata": {},
   "outputs": [
    {
     "name": "stdout",
     "output_type": "stream",
     "text": [
      "withdrawing from savings account.....\n",
      "Withdrawed 200 from 67890\n"
     ]
    }
   ],
   "source": [
    "print(\"withdrawing from savings account.....\")\n",
    "bank.withdraw('67890',200)"
   ]
  },
  {
   "cell_type": "code",
   "execution_count": 56,
   "id": "30061a88-f47e-4193-ab2d-b6c0955148db",
   "metadata": {},
   "outputs": [
    {
     "name": "stdout",
     "output_type": "stream",
     "text": [
      "Adding interest to savings account\n",
      "added 150.0 to account 67890\n"
     ]
    }
   ],
   "source": [
    "print('Adding interest to savings account')\n",
    "sAccount.add_interest()"
   ]
  },
  {
   "cell_type": "code",
   "execution_count": 57,
   "id": "259bce1c-463e-4130-b61d-f9a7e1c11ef2",
   "metadata": {},
   "outputs": [
    {
     "name": "stdout",
     "output_type": "stream",
     "text": [
      "Getting balance of the checking account....\n",
      "balance =  1500\n"
     ]
    }
   ],
   "source": [
    "print('Getting balance of the checking account....')\n",
    "balance = bank.get_balance('12345')\n",
    "print('balance = ',balance)"
   ]
  },
  {
   "cell_type": "code",
   "execution_count": 58,
   "id": "7c2201ba-72d1-4227-930e-8f9879b30008",
   "metadata": {},
   "outputs": [
    {
     "name": "stdout",
     "output_type": "stream",
     "text": [
      "Getting balance of the checking account....\n",
      "balance =  450.0\n"
     ]
    }
   ],
   "source": [
    "print('Getting balance of the checking account....')\n",
    "balance = bank.get_balance('67890')\n",
    "print('balance = ',balance)"
   ]
  },
  {
   "cell_type": "code",
   "execution_count": null,
   "id": "8d398587-bbef-4a8d-bd4c-1aba52035cea",
   "metadata": {},
   "outputs": [],
   "source": []
  }
 ],
 "metadata": {
  "kernelspec": {
   "display_name": "Python 3 (ipykernel)",
   "language": "python",
   "name": "python3"
  },
  "language_info": {
   "codemirror_mode": {
    "name": "ipython",
    "version": 3
   },
   "file_extension": ".py",
   "mimetype": "text/x-python",
   "name": "python",
   "nbconvert_exporter": "python",
   "pygments_lexer": "ipython3",
   "version": "3.10.12"
  }
 },
 "nbformat": 4,
 "nbformat_minor": 5
}
